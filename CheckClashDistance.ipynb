{
 "cells": [
  {
   "cell_type": "code",
   "execution_count": 138,
   "metadata": {},
   "outputs": [],
   "source": [
    "import os\n",
    "import pandas as pd\n",
    "import matplotlib.pyplot as plt\n",
    "import numpy as np\n",
    "import statistics as stat\n",
    "import subprocess\n",
    "import itertools\n",
    "from timeit import timeit\n",
    "from Bio import Phylo\n",
    "from io import StringIO\n",
    "from math import log\n",
    "from scipy.stats import pearsonr\n",
    "from copy import deepcopy"
   ]
  },
  {
   "cell_type": "code",
   "execution_count": 160,
   "metadata": {},
   "outputs": [],
   "source": [
    "Position = []\n",
    "seqs_at_pos = []\n",
    "num_of_SNPs = []\n",
    "folder = \"Daria_Seq_Report/recophy_downloads/\"\n",
    "\n",
    "with open(folder+'snp_types.txt', 'r') as file:\n",
    "    lines = file.readlines()\n",
    "\n",
    "    for line in lines:\n",
    "        parts = line.strip().split('\\t')\n",
    "        Position.append(parts[0])\n",
    "        res = [int(ele) for ele in parts[1]]\n",
    "        seqs_at_pos.append(np.array(res).squeeze())\n",
    "        num_of_SNPs.append(np.sum(seqs_at_pos))\n"
   ]
  },
  {
   "cell_type": "code",
   "execution_count": 147,
   "metadata": {},
   "outputs": [],
   "source": [
    "def findOccurrences(s, ch):\n",
    "    return [i for i, letter in enumerate(s) if letter == ch]\n",
    "\n",
    "def check_clash_symm(seq1, seq2):\n",
    "    return check_clash(seq1, seq2) or check_clash(seq2, seq1)\n",
    "\n",
    "def check_clash(prev_seqs, next_seqs):\n",
    "    ones = deepcopy(prev_seqs)\n",
    "    zeros = deepcopy(np.ones_like(prev_seqs) - prev_seqs)\n",
    "    \n",
    "    ones -= next_seqs\n",
    "    zeros -= next_seqs\n",
    "    \n",
    "    if (np.min(ones) < 0) and (np.min(zeros) < 0):\n",
    "        return True\n",
    "    else:\n",
    "        return False\n",
    "\n",
    "def numberOfClashes(prev_seqs, next_seqs) -> int:\n",
    "    ones = deepcopy(prev_seqs)\n",
    "    zeros = deepcopy(np.ones_like(prev_seqs) - prev_seqs)\n",
    "    \n",
    "    ones -= next_seqs\n",
    "    zeros -= next_seqs\n",
    "    count_negative_ones = np.sum(ones == -1)\n",
    "    count_negative_zeros = np.sum(zeros == -1)\n",
    "    return max(count_negative_ones, count_negative_zeros)\n",
    "\n",
    "def compute_clashes(seqs_at_pos):\n",
    "    length_no_clash = int(0)\n",
    "    position_of_clashes = []\n",
    "    num_of_clashes = []\n",
    "    num_of_SNPs_clashes = []\n",
    "\n",
    "    lengths_clashes = []\n",
    "    lengths_position_clashes = []\n",
    "\n",
    "    for i, seqs_current in enumerate(seqs_at_pos):\n",
    "        for seqs_no_clash in seqs_at_pos[i-length_no_clash:i]:\n",
    "            if check_clash_symm(seqs_no_clash, seqs_current):\n",
    "                # print(i-length_no_clash, i)\n",
    "                init_Pos = int(Position[i-length_no_clash])\n",
    "                fin_Pos = int(Position[i])\n",
    "\n",
    "                lengths_position_clashes.append(fin_Pos-init_Pos)\n",
    "                position_of_clashes.append(fin_Pos)\n",
    "                lengths_clashes.append(length_no_clash)\n",
    "                position_of_clashes.append(fin_Pos)\n",
    "                num_of_clashes.append(numberOfClashes(seqs_no_clash, seqs_current))\n",
    "                num_of_SNPs_clashes.append(np.sum(seqs_at_pos[i-length_no_clash:i]))\n",
    "                \n",
    "                length_no_clash = 0\n",
    "            # print(seqs_current)\n",
    "        length_no_clash +=1\n",
    "    return num_of_clashes, num_of_SNPs_clashes, lengths_position_clashes"
   ]
  },
  {
   "cell_type": "code",
   "execution_count": 149,
   "metadata": {},
   "outputs": [],
   "source": [
    "block_size = 5*1000\n",
    "position_begin = float(Position[0])\n",
    "position_end = float(Position[-1])\n",
    "itr = np.arange(0, position_end, block_size)\n",
    "position_clashes_iter = iter(position_of_clashes)\n",
    "current_position_clashes = next(position_iter)\n",
    "\n",
    "position_SNPs_iter = iter(position_of_clashes)\n",
    "current_position_SNPs = next(position_iter)\n",
    "\n",
    "for i in itr:\n",
    "    if i < current_position_genome:\n",
    "        num_Clashes_per_block = 0\n",
    "        num_SNP_per_block = \n",
    "\n",
    "    if i > current_position_genome:\n",
    "        SNP_per "
   ]
  },
  {
   "cell_type": "code",
   "execution_count": 143,
   "metadata": {},
   "outputs": [
    {
     "data": {
      "text/plain": [
       "69"
      ]
     },
     "execution_count": 143,
     "metadata": {},
     "output_type": "execute_result"
    }
   ],
   "source": [
    "np.sum(seqs_at_pos[5:10])"
   ]
  },
  {
   "cell_type": "code",
   "execution_count": 142,
   "metadata": {},
   "outputs": [
    {
     "data": {
      "image/png": "[encoded data removed]",
      "text/plain": [
       "<Figure size 640x480 with 1 Axes>"
      ]
     },
     "metadata": {},
     "output_type": "display_data"
    }
   ],
   "source": [
    "plt.hist(lengths_position_clashes)\n",
    "plt.xscale(\"log\")\n",
    "# plt.xlim(0, 1.5e6)"
   ]
  },
  {
   "cell_type": "code",
   "execution_count": 119,
   "metadata": {},
   "outputs": [
    {
     "data": {
      "text/plain": [
       "<matplotlib.collections.PathCollection at 0x168e5b7f0>"
      ]
     },
     "execution_count": 119,
     "metadata": {},
     "output_type": "execute_result"
    },
    {
     "data": {
      "image/png": "[encoded data removed]",
      "text/plain": [
       "<Figure size 640x480 with 1 Axes>"
      ]
     },
     "metadata": {},
     "output_type": "display_data"
    }
   ],
   "source": [
    "def c_over_m(seqs_at_pos):\n",
    "    compute"
   ]
  },
  {
   "cell_type": "code",
   "execution_count": null,
   "metadata": {},
   "outputs": [],
   "source": []
  },
  {
   "cell_type": "code",
   "execution_count": null,
   "metadata": {},
   "outputs": [],
   "source": []
  }
 ],
 "metadata": {
  "kernelspec": {
   "display_name": "qbio_read_alignment_v1",
   "language": "python",
   "name": "python3"
  },
  "language_info": {
   "codemirror_mode": {
    "name": "ipython",
    "version": 3
   },
   "file_extension": ".py",
   "mimetype": "text/x-python",
   "name": "python",
   "nbconvert_exporter": "python",
   "pygments_lexer": "ipython3",
   "version": "3.10.2"
  }
 },
 "nbformat": 4,
 "nbformat_minor": 2
}
