{
 "cells": [
  {
   "cell_type": "code",
   "execution_count": 100,
   "metadata": {},
   "outputs": [],
   "source": [
    "import os\n",
    "import pandas as pd\n",
    "import matplotlib.pyplot as plt\n",
    "import numpy as np\n",
    "import statistics as stat\n",
    "import subprocess\n",
    "import itertools\n",
    "from timeit import timeit\n",
    "from Bio import Phylo\n",
    "from io import StringIO\n",
    "from math import log\n",
    "from scipy.stats import pearsonr\n",
    "from copy import deepcopy"
   ]
  },
  {
   "cell_type": "code",
   "execution_count": 110,
   "metadata": {},
   "outputs": [],
   "source": [
    "Position = []\n",
    "seqs_at_pos = []\n",
    "folder = \"Daria_Seq_Report/recophy_downloads/\"\n",
    "\n",
    "with open(folder+'snp_types.txt', 'r') as file:\n",
    "    lines = file.readlines()\n",
    "\n",
    "    for line in lines:\n",
    "        parts = line.strip().split('\\t')\n",
    "        Position.append(parts[0])\n",
    "        res = [int(ele) for ele in parts[1]]\n",
    "        seqs_at_pos.append(np.array(res).squeeze())"
   ]
  },
  {
   "cell_type": "code",
   "execution_count": 120,
   "metadata": {},
   "outputs": [],
   "source": [
    "cummulative_array_ones = np.ones_like(res)\n",
    "cummulative_array_zeros = np.ones_like(res)\n",
    "length_no_clash = int(0)\n",
    "init_cond = True\n",
    "position_of_clashes = []\n",
    "num_of_clashes = []\n",
    "num_of_SNPs = []\n",
    "\n",
    "def findOccurrences(s, ch):\n",
    "    return [i for i, letter in enumerate(s) if letter == ch]\n",
    "\n",
    "lengths_clashes = []\n",
    "lengths_position_clashes = []\n",
    "\n",
    "def check_clash(prev_seqs, next_seqs):\n",
    "    ones = deepcopy(prev_seqs)\n",
    "    zeros = deepcopy(np.ones_like(prev_seqs) - prev_seqs)\n",
    "    \n",
    "    ones -= next_seqs\n",
    "    zeros -= next_seqs\n",
    "    \n",
    "    if (np.min(ones) < 0) and (np.min(zeros) < 0):\n",
    "        return True\n",
    "    else:\n",
    "        return False\n",
    "\n",
    "def numberOfClashes(prev_seqs, next_seqs) -> int:\n",
    "    ones = deepcopy(prev_seqs)\n",
    "    zeros = deepcopy(np.ones_like(prev_seqs) - prev_seqs)\n",
    "    \n",
    "    ones -= next_seqs\n",
    "    zeros -= next_seqs\n",
    "    count_negative_ones = np.sum(ones == -1)\n",
    "    count_negative_zeros = np.sum(zeros == -1)\n",
    "    return max(count_negative_ones, count_negative_zeros)\n",
    "\n",
    "for i, seqs_current in enumerate(seqs_at_pos):\n",
    "    for seqs_no_clash in seqs_at_pos[i-length_no_clash:i]:\n",
    "        if check_clash(seqs_no_clash, seqs_current):\n",
    "            # print(i-length_no_clash, i)\n",
    "            init_Pos = int(Position[i-length_no_clash])\n",
    "            fin_Pos = int(Position[i])\n",
    "\n",
    "            lengths_position_clashes.append(fin_Pos-init_Pos)\n",
    "            lengths_clashes.append(length_no_clash)\n",
    "            position_of_clashes.append(fin_Pos)\n",
    "            num_of_clashes.append(numberOfClashes(seqs_no_clash, seqs_current))\n",
    "            \n",
    "            length_no_clash = 0\n",
    "        # print(seqs_current)\n",
    "    length_no_clash +=1"
   ]
  },
  {
   "cell_type": "code",
   "execution_count": 129,
   "metadata": {},
   "outputs": [
    {
     "name": "stderr",
     "output_type": "stream",
     "text": [
      "/var/folders/9_/htwk2tpd6tv_fy1sp81nfcsm0000gn/T/ipykernel_27881/478712711.py:3: UserWarning: Attempt to set non-positive xlim on a log-scaled axis will be ignored.\n",
      "  plt.xlim(0, 1.5e6)\n"
     ]
    },
    {
     "data": {
      "text/plain": [
       "(8121.524173743758, 1500000.0)"
      ]
     },
     "execution_count": 129,
     "metadata": {},
     "output_type": "execute_result"
    },
    {
     "data": {
      "image/png": "[encoded data removed]",
      "text/plain": [
       "<Figure size 640x480 with 1 Axes>"
      ]
     },
     "metadata": {},
     "output_type": "display_data"
    }
   ],
   "source": [
    "plt.hist(lengths_position_clashes)\n",
    "plt.xscale(\"log\")\n",
    "plt.xlim(0, 1.5e6)"
   ]
  },
  {
   "cell_type": "code",
   "execution_count": 119,
   "metadata": {},
   "outputs": [
    {
     "data": {
      "text/plain": [
       "<matplotlib.collections.PathCollection at 0x168e5b7f0>"
      ]
     },
     "execution_count": 119,
     "metadata": {},
     "output_type": "execute_result"
    },
    {
     "data": {
      "image/png": "[encoded data removed]",
      "text/plain": [
       "<Figure size 640x480 with 1 Axes>"
      ]
     },
     "metadata": {},
     "output_type": "display_data"
    }
   ],
   "source": []
  },
  {
   "cell_type": "code",
   "execution_count": null,
   "metadata": {},
   "outputs": [],
   "source": []
  },
  {
   "cell_type": "code",
   "execution_count": null,
   "metadata": {},
   "outputs": [],
   "source": []
  }
 ],
 "metadata": {
  "kernelspec": {
   "display_name": "qbio_read_alignment_v1",
   "language": "python",
   "name": "python3"
  },
  "language_info": {
   "codemirror_mode": {
    "name": "ipython",
    "version": 3
   },
   "file_extension": ".py",
   "mimetype": "text/x-python",
   "name": "python",
   "nbconvert_exporter": "python",
   "pygments_lexer": "ipython3",
   "version": "3.10.2"
  }
 },
 "nbformat": 4,
 "nbformat_minor": 2
}
